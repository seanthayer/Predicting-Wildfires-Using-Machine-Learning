{
  "cells": [
    {
      "cell_type": "code",
      "execution_count": 1,
      "metadata": {
        "id": "xZe3lBcpTcah"
      },
      "outputs": [],
      "source": [
        "import sys\n",
        "import os\n",
        "import datetime as date\n",
        "import pandas as pd\n",
        "import numpy as np\n",
        "\n",
        "from sklearn.linear_model import LogisticRegression\n",
        "from sklearn.model_selection import train_test_split\n",
        "from sklearn.metrics import precision_recall_curve, roc_curve, auc\n",
        "from sklearn.metrics import classification_report\n",
        "from matplotlib import pyplot\n",
        "from matplotlib import pylab\n",
        "\n",
        "sys.path.append(os.getcwd())"
      ]
    },
    {
      "cell_type": "code",
      "execution_count": 3,
      "metadata": {
        "id": "lqdsYsm4SOaP"
      },
      "outputs": [],
      "source": [
        "NOAA_header_line_offset = 3\n",
        "\n",
        "NOAA_dataset_query_year_start = 2014\n",
        "NOAA_dataset_query_year_stop = 2022\n",
        "\n",
        "NOAA_county_code_list = [\"001\", \"003\", \"005\", \"007\", \"009\", \"011\", \"013\", \"015\", \"017\", \"019\", \"021\", \"023\",\n",
        "                         \"025\", \"027\", \"029\", \"031\", \"033\", \"035\", \"037\", \"039\", \"041\", \"043\", \"045\", \"047\",\n",
        "                         \"049\", \"051\", \"053\", \"055\", \"057\", \"059\", \"061\", \"063\", \"065\", \"067\", \"069\", \"071\"]\n",
        "\n",
        "county_list = [\"Baker\", \"Benton\", \"Clackamas\", \"Clatsop\", \"Columbia\", \"Coos\", \"Crook\", \"Curry\", \"Deschutes\",\n",
        "               \"Douglas\", \"Gilliam\", \"Grant\", \"Harney\", \"Hood River\", \"Jackson\", \"Jefferson\", \"Josephine\",\n",
        "               \"Klamath\", \"Lake\", \"Lane\", \"Lincoln\", \"Linn\", \"Malheur\", \"Marion\", \"Morrow\", \"Multnomah\",\n",
        "               \"Polk\", \"Sherman\", \"Tillamook\", \"Umatilla\", \"Union\", \"Wallowa\", \"Wasco\", \"Washington\",\n",
        "               \"Wheeler\", \"Yamhill\"]\n",
        "\n",
        "month_list = [\"January\", \"February\", \"March\", \"April\", \"May\", \"June\", \"July\",\n",
        "              \"August\", \"September\", \"October\", \"November\", \"December\"]"
      ]
    },
    {
      "attachments": {},
      "cell_type": "markdown",
      "metadata": {
        "id": "shiUpSLkon6j"
      },
      "source": [
        "Since I were not able to find detailed archived daily precipitation and temperature data, I took the monthly mean temperature and precipitation as a simpler approach. The original climate data contains two parts, temperature and precipitation, I joined two tables by their corresponding county and date. My data research direction is the correlation between the occurrence of wildfires and the climate of the month. \n",
        "Currently, data from NOAA stores seperately in folder Precipitation_By_county and Temperature_By_County. The first three function is to make then into pure csv file and store them in a folder called Precipitation_temperature together for further use."
      ]
    },
    {
      "cell_type": "code",
      "execution_count": 8,
      "metadata": {
        "id": "DzJjymRsX2Xt"
      },
      "outputs": [],
      "source": [
        "def delete_lines(fileName, head, targetFN):\n",
        "    fin = open(fileName, 'r')\n",
        "    lines = fin.readlines()\n",
        "    fout = open(targetFN, 'w')\n",
        "    adjusted_lines = ''.join(lines[head:])\n",
        "    fout.write(adjusted_lines)\n",
        "\n",
        "\n",
        "def clean_CSV():\n",
        "    for county in county_list:\n",
        "        prec_dir = \"./Precipitation_By_County/\"\n",
        "        temp_dir = \"./Temperature_By_County/\"\n",
        "        target_dir = \"./Precipitation_Temperature/\"\n",
        "        temp_excep = \"_Temp.csv\"\n",
        "        prec_excep = \"_Prec.csv\"\n",
        "        precFN = prec_dir + county + prec_excep\n",
        "        tempFN = temp_dir + county + temp_excep\n",
        "        lines_to_del = 3\n",
        "        delete_lines(precFN, lines_to_del, target_dir+county+prec_excep)\n",
        "        delete_lines(tempFN, lines_to_del, target_dir+county+temp_excep)\n",
        "\n",
        "def merge_Data():\n",
        "\n",
        "    dir = \"./Precipitation_Temperature/\"\n",
        "    temp_excep = \"_Temp.csv\"\n",
        "    prec_excep = \"_Prec.csv\"\n",
        "    climate_excep = \"_Climate.csv\"\n",
        "    climate_path = \"./Merged_Data/\"\n",
        "\n",
        "    for county in county_list:\n",
        "        precFN = dir + county + prec_excep\n",
        "        tempFN = dir + county + temp_excep\n",
        "        climateFN = climate_path + county + climate_excep\n",
        "\n",
        "        prec_df = pd.read_csv(precFN)\n",
        "        temp_df = pd.read_csv(tempFN)\n",
        "\n",
        "        prec_df.rename(columns={'Value':'Precipitation'}, inplace=True)\n",
        "        temp_df.rename(columns={'Value':\"Temperature\"}, inplace=True)\n",
        "\n",
        "        climate_df = temp_df\n",
        "        climate_df['Precipitation'] = prec_df['Precipitation']/30\n",
        "        climate_df.to_csv(climateFN)\n",
        "\n",
        "clean_CSV()\n",
        "merge_Data()"
      ]
    },
    {
      "attachments": {},
      "cell_type": "markdown",
      "metadata": {
        "id": "WzQxLKYkpdsr"
      },
      "source": [
        "From NIFC, we obtained every wildfire incidents in the US and since we only need data in Oregon, we sort them out."
      ]
    },
    {
      "cell_type": "code",
      "execution_count": 10,
      "metadata": {
        "id": "4pjSHSgKTzmE"
      },
      "outputs": [],
      "source": [
        "def get_OR_records():\n",
        "    df = pd.read_csv(\"Wildland_Fire_Incident_Locations.csv\", low_memory=False)\n",
        "    df_clear = df[(df['POOState'] == 'US-OR') & (df['IncidentTypeCategory'] == 'WF')]\n",
        "    df_column = df_clear[['X', 'Y', 'FireDiscoveryDateTime', 'InitialLatitude', 'InitialLongitude', \n",
        "                        'POOCounty', 'IncidentSize', 'FireCause']]\n",
        "    df_column.to_csv(\"./Oregon_Fire_Record.csv\")\n",
        "get_OR_records()"
      ]
    },
    {
      "attachments": {},
      "cell_type": "markdown",
      "metadata": {
        "id": "6dSwNmWWp7mb"
      },
      "source": [
        "For each fire incident in Oregon, assign them the Temperature and Precipitation data of that month. I take the average temperature and precipitation of each month. I don't think analyzing average precipitation together with wildfire occurrences is any more ambiguous than daily climate because the occasional lack of precipitation doesn't necessarily directly lead to increased fire risk, but long periods of low precipitation tend to dry out the soil and cause it to happen wildfire."
      ]
    },
    {
      "cell_type": "code",
      "execution_count": 14,
      "metadata": {
        "id": "GSaKv610Tqgo"
      },
      "outputs": [],
      "source": [
        "def insert_climate(fire_record, climate_dir, climate_excep):\n",
        "    fire_df = pd.read_csv(fire_record)\n",
        "    fire_df.insert(fire_df.shape[1], 'Temperature', -1)\n",
        "    fire_df.insert(fire_df.shape[1], 'Precipitation', -1)\n",
        "\n",
        "    for idx, record in fire_df.iterrows():\n",
        "        time = pd.to_datetime(record[3])\n",
        "        year_str = str(time.year)\n",
        "        if (time.month < 10):\n",
        "            month_str = str(0) + str(time.month)\n",
        "        else:\n",
        "            month_str = str(time.month)\n",
        "        fireDate = int(year_str+month_str)\n",
        "        fireCounty = str(record[6])\n",
        "\n",
        "        climateFN = climate_dir + fireCounty + climate_excep\n",
        "        climate_df = pd.read_csv(climateFN)\n",
        "\n",
        "        for i, climate in climate_df.iterrows():\n",
        "            if fireDate == int(climate[1]):\n",
        "                fire_df.loc[idx, 'Temperature'] = climate[2]\n",
        "                fire_df.loc[idx, 'Precipitation'] = climate[3]\n",
        "\n",
        "    fire_df = fire_df.drop(columns='Unnamed: 0', axis=1)\n",
        "    fire_df.to_csv(\"vectors.csv\")\n",
        "\n",
        "insert_climate(\"Oregon_Fire_Record.csv\", \"./Merged_Data/\", \"_Climate.csv\")"
      ]
    },
    {
      "attachments": {},
      "cell_type": "markdown",
      "metadata": {
        "id": "P-4yCrem7IVv"
      },
      "source": [
        "For each county and year/month, add a flag on if the county had any incident on that month."
      ]
    },
    {
      "cell_type": "code",
      "execution_count": 16,
      "metadata": {
        "id": "wmmiOXBLZcet"
      },
      "outputs": [],
      "source": [
        "def build_data():\n",
        "    data = {'County':[], 'Date':[], 'Temperature':[], 'Precipitation':[], 'Is_Burned':[], 'X':[],\n",
        "            'Y':[], 'FireDiscoveryDateTime':[], 'InitialLatitude':[], 'InitialLongitude':[],\n",
        "            'IncidentSize':[], 'FireCause':[]}\n",
        "    df = pd.DataFrame(data)\n",
        "    for county in county_list:\n",
        "        climate_df = pd.read_csv(\"./Merged_data/{}_Climate.csv\".format(county))\n",
        "        counter = 0\n",
        "        for year in range(2010, 2024):\n",
        "            for month in range(1, 13):\n",
        "                if year == 2023 and month > 1:\n",
        "                    continue\n",
        "                else:\n",
        "                    year_str = str(year)\n",
        "                    if month < 10:\n",
        "                        month_str = str(0) + str(month)\n",
        "                    else:\n",
        "                        month_str = str(month)\n",
        "                    date_str = year_str + month_str\n",
        "                    temp = climate_df.iloc[counter, 2]\n",
        "                    prec = climate_df.iloc[counter, 3]\n",
        "                    df.loc[len(df.index)] = [county, date_str, temp, prec, 0, '','','','','','','']\n",
        "                    counter += 1\n",
        "    df.to_csv('flags.csv')\n",
        "\n",
        "def insert_flag():\n",
        "    flag_df = pd.read_csv('./flags.csv')\n",
        "    flag_df = flag_df.drop(columns='Unnamed: 0', axis=1)\n",
        "    fire_df = pd.read_csv('./vectors.csv')\n",
        "    for idx, record in fire_df.iterrows():\n",
        "        county = record['POOCounty']\n",
        "        time = pd.to_datetime(record['FireDiscoveryDateTime'])\n",
        "        year_str = str(time.year)\n",
        "        if (time.month < 10):\n",
        "            month_str = str(0) + str(time.month)\n",
        "        else:\n",
        "            month_str = str(time.month)\n",
        "        fireDate = int(year_str+month_str)\n",
        "        if fireDate <= 202301:\n",
        "            index = flag_df[(flag_df['County'].isin([county]))&(flag_df['Date'].isin([fireDate]))].index[0]\n",
        "            if flag_df.iloc[index, 4] == 0:\n",
        "                flag_df.iloc[index, 4] = 1\n",
        "                flag_df.iloc[index, 5] = record[\"X\"]\n",
        "                flag_df.iloc[index, 6] = record[\"Y\"]\n",
        "                flag_df.iloc[index, 7] = record[\"FireDiscoveryDateTime\"]\n",
        "                flag_df.iloc[index, 8] = record[\"InitialLatitude\"]\n",
        "                flag_df.iloc[index, 9] = record[\"InitialLongitude\"]\n",
        "                flag_df.iloc[index, 10] = record[\"IncidentSize\"]\n",
        "                flag_df.iloc[index, 11] = record[\"FireCause\"]\n",
        "            else:\n",
        "                f = flag_df.loc[index]\n",
        "                df_add = pd.DataFrame({'County':[f[\"County\"]],\n",
        "                                        'Date':[f[\"Date\"]], \n",
        "                                        'Temperature':[f[\"Temperature\"]], \n",
        "                                        'Precipitation':[f[\"Precipitation\"]], \n",
        "                                        'Is_Burned':[1], \n",
        "                                        'X':[record[\"X\"]],\n",
        "                                        'Y':[record[\"Y\"]], \n",
        "                                        'FireDiscoveryDateTime':[record[\"FireDiscoveryDateTime\"]], \n",
        "                                        'InitialLatitude':[record[\"InitialLatitude\"]], \n",
        "                                        'InitialLongitude':[record[\"InitialLongitude\"]],\n",
        "                                        'IncidentSize':[record[\"IncidentSize\"]], \n",
        "                                        'FireCause':[record[\"FireCause\"]]})\n",
        "                df1 = flag_df.iloc[:index, :]\n",
        "                df2 = flag_df.iloc[index:, :]\n",
        "                flag_df = pd.concat([df1, df_add, df2], ignore_index=True)\n",
        "    flag_df.to_csv(\"training.csv\")\n",
        "\n",
        "build_data()\n",
        "insert_flag()"
      ]
    },
    {
      "attachments": {},
      "cell_type": "markdown",
      "metadata": {
        "id": "PcTYU0azE2eB"
      },
      "source": [
        "Train a logistic regression model with temperature and precipitation."
      ]
    },
    {
      "cell_type": "code",
      "execution_count": 20,
      "metadata": {
        "id": "pfAaw2R2h2ot"
      },
      "outputs": [
        {
          "name": "stdout",
          "output_type": "stream",
          "text": [
            "0.8220000000000001\n"
          ]
        }
      ],
      "source": [
        "def training():\n",
        "    df = pd.read_csv(\"training.csv\")\n",
        "    df = df.drop(columns='Unnamed: 0', axis=1)\n",
        "    df = df.drop(columns='County', axis=1)\n",
        "    df = df.drop(columns='Date', axis=1)\n",
        "\n",
        "    accuracy = 0\n",
        "\n",
        "    for i in range(0,10):\n",
        "      df1 = df.iloc[0 : i*300]\n",
        "      df2 = df.iloc[i*300 : (i+1)*300]\n",
        "      df3 = df.iloc[(i+1)*300 :]\n",
        "\n",
        "      train_df = pd.concat([df1, df3])\n",
        "      test_df = df2\n",
        "      \n",
        "      X_train = train_df[['Temperature', 'Precipitation']]\n",
        "      Y_train = train_df[['Is_Burned']]\n",
        "      Y_train = Y_train.to_numpy()\n",
        "      Y_train = Y_train.reshape(-1)\n",
        "      X_test = test_df[['Temperature', 'Precipitation']]\n",
        "      Y_test = test_df[['Is_Burned']]\n",
        "      Y_test = Y_test.to_numpy()\n",
        "      Y_test = Y_test.reshape(-1)\n",
        "\n",
        "      lr = LogisticRegression(max_iter=3000)\n",
        "      lr.fit(X_train, Y_train)\n",
        "      Y_pred = lr.predict(X_test)\n",
        "      p = 0\n",
        "      for i in range(len(Y_test)):\n",
        "          if Y_test[i] == Y_pred[i]:\n",
        "              p += 1\n",
        "      p /= len(Y_test)\n",
        "      accuracy += p\n",
        "    print(accuracy/10)\n",
        "\n",
        "training()"
      ]
    },
    {
      "attachments": {},
      "cell_type": "markdown",
      "metadata": {
        "id": "6ze0mcWzGDrH"
      },
      "source": [
        "The model with average temperature and precipitation of correspond month performs about 82% accuracy. We made a hypothesis that after several month or a long term of low precipitation and high temperature, the potential risk of wildfire will increase. So based on the previous model, we append the climate data of each previous two months to our training data as more paremeters. And we train the new logistic model with the temperature and precipitation with current, one month before and two month before."
      ]
    },
    {
      "cell_type": "code",
      "execution_count": 18,
      "metadata": {
        "id": "YadUOFdLi24r"
      },
      "outputs": [],
      "source": [
        "def build_data_v2():\n",
        "    data = {'County':[], 'Date':[], 'Temperature':[], 'Precipitation':[], 'Is_Burned':[]}\n",
        "    df = pd.DataFrame(data)\n",
        "    for county in county_list:\n",
        "        climate_df = pd.read_csv(\"./Merged_data/{}_Climate.csv\".format(county))\n",
        "        counter = 0\n",
        "        for year in range(2010, 2024):\n",
        "            for month in range(1, 13):\n",
        "                if year == 2023 and month > 1:\n",
        "                    continue\n",
        "                else:\n",
        "                    year_str = str(year)\n",
        "                    if month < 10:\n",
        "                        month_str = str(0) + str(month)\n",
        "                    else:\n",
        "                        month_str = str(month)\n",
        "                    date_str = year_str + month_str\n",
        "                    temp = climate_df.iloc[counter, 2]\n",
        "                    prec = climate_df.iloc[counter, 3]\n",
        "                    df.loc[len(df.index)] = [county, date_str, temp, prec, 0]\n",
        "                    counter += 1\n",
        "    df2 = df\n",
        "    data = {'Temperature': []}\n",
        "    data2 = {'Precipitation': []}\n",
        "    prev_temp_1 = pd.DataFrame(data)\n",
        "    prev_temp_1.loc[0] = -1\n",
        "    tempdf = df2.drop(['County', 'Date', 'Precipitation', 'Is_Burned'], axis=1)\n",
        "    prev_temp_1 = pd.concat([prev_temp_1, tempdf], axis=0, ignore_index=True)\n",
        "    prev_temp_1.rename(columns={'Temperature': 'Prev 1 Temp'})\n",
        "    df['Prev 1 Temp'] = prev_temp_1\n",
        "\n",
        "    prev_temp_2 = pd.DataFrame(data)\n",
        "    prev_temp_2.loc[0] = -1\n",
        "    prev_temp_2.loc[1] = -1\n",
        "    prev_temp_2 = pd.concat([prev_temp_2, tempdf], axis=0, ignore_index=True)\n",
        "    prev_temp_2.rename(columns={'Temperature': 'Prev 2 Temp'})\n",
        "    df['Prev 2 Temp'] = prev_temp_2\n",
        "\n",
        "    prev_prec_1 = pd.DataFrame(data2)\n",
        "    prev_prec_1.loc[0] = -1\n",
        "    tempdf = df2.drop(['County', 'Date', 'Temperature', 'Is_Burned', 'Prev 1 Temp', 'Prev 2 Temp'], axis=1)\n",
        "    prev_prec_1 = pd.concat([prev_prec_1, tempdf], axis=0, ignore_index=True)\n",
        "    prev_prec_1.rename(columns={'Temperature': 'Prev 1 Prec'})\n",
        "    df['Prev 1 Prec'] = prev_prec_1\n",
        "\n",
        "    prev_prec_2 = pd.DataFrame(data2)\n",
        "    prev_prec_2.loc[0] = -1\n",
        "    prev_prec_2.loc[1] = -1\n",
        "    prev_prec_2 = pd.concat([prev_prec_2, tempdf], axis=0, ignore_index=True)\n",
        "    prev_prec_2.rename(columns={'Temperature': 'Prev 2 Prec'})\n",
        "    df['Prev 2 Prec'] = prev_prec_2\n",
        "\n",
        "    for idx, row in df.iterrows():\n",
        "        if int(row['Date']) < 201401:\n",
        "            df = df.drop(index=idx)\n",
        "\n",
        "    df = df[['County', 'Date', 'Temperature', 'Prev 1 Temp', 'Prev 2 Temp', 'Precipitation', 'Prev 1 Prec', 'Prev 2 Prec', 'Is_Burned']]\n",
        "\n",
        "    df.to_csv('flags_v2.csv')\n",
        "\n",
        "def insert_flag_v2():\n",
        "    flag_df = pd.read_csv('flags_v2.csv')\n",
        "    flag_df = flag_df.drop(columns='Unnamed: 0', axis=1)\n",
        "\n",
        "    fire_df = pd.read_csv('vectors.csv')\n",
        "    for idx, record in fire_df.iterrows():\n",
        "        county = record['POOCounty']\n",
        "        time = pd.to_datetime(record['FireDiscoveryDateTime'])\n",
        "        year_str = str(time.year)\n",
        "        if (time.month < 10):\n",
        "            month_str = str(0) + str(time.month)\n",
        "        else:\n",
        "            month_str = str(time.month)\n",
        "        fireDate = int(year_str+month_str)\n",
        "        if fireDate <= 202301:\n",
        "            index = flag_df[(flag_df['County'].isin([county]))&(flag_df['Date'].isin([fireDate]))].index[0]\n",
        "            flag_df.iloc[index, 8] = 1\n",
        "\n",
        "    flag_df.to_csv('training_v2.csv')\n",
        "\n",
        "build_data_v2()\n",
        "insert_flag_v2()"
      ]
    },
    {
      "cell_type": "code",
      "execution_count": 19,
      "metadata": {
        "id": "iNEV9d8ei-SI"
      },
      "outputs": [
        {
          "name": "stdout",
          "output_type": "stream",
          "text": [
            "0.7323333333333333\n"
          ]
        }
      ],
      "source": [
        "def log_reg_v2():\n",
        "    df = pd.read_csv(\"training_v2.csv\")\n",
        "    df = df.drop(columns='Unnamed: 0', axis=1)\n",
        "    df = df.drop(columns='County', axis=1)\n",
        "    df = df.drop(columns='Date', axis=1)\n",
        "\n",
        "    accuracy = 0\n",
        "\n",
        "    for i in range(0,10):\n",
        "        df1 = df.iloc[0 : i*300]\n",
        "        df2 = df.iloc[i*300 : (i+1)*300]\n",
        "        df3 = df.iloc[(i+1)*300 :]\n",
        "        train_df = pd.concat([df1, df3])\n",
        "        test_df = df2\n",
        "        \n",
        "        X_train = train_df[['Temperature', 'Prev 1 Temp', 'Prev 2 Temp', 'Precipitation', 'Prev 1 Prec', 'Prev 2 Prec']]\n",
        "        Y_train = train_df[['Is_Burned']]\n",
        "        Y_train = Y_train.to_numpy()\n",
        "        Y_train = Y_train.reshape(-1)\n",
        "        X_test = test_df[['Temperature', 'Prev 1 Temp', 'Prev 2 Temp', 'Precipitation', 'Prev 1 Prec', 'Prev 2 Prec']]\n",
        "        Y_test = test_df[['Is_Burned']]\n",
        "        Y_test = Y_test.to_numpy()\n",
        "        Y_test = Y_test.reshape(-1)\n",
        "\n",
        "        lr = LogisticRegression(max_iter=3000)\n",
        "        lr.fit(X_train, Y_train)\n",
        "        Y_pred = lr.predict(X_test)\n",
        "        p = 0\n",
        "        for i in range(len(Y_test)):\n",
        "            if Y_test[i] == Y_pred[i]:\n",
        "                p += 1\n",
        "        p /= len(Y_test)\n",
        "        accuracy += p\n",
        "    \n",
        "    print(accuracy/10)\n",
        "\n",
        "log_reg_v2()"
      ]
    },
    {
      "attachments": {},
      "cell_type": "markdown",
      "metadata": {
        "id": "09qv6ITCISDQ"
      },
      "source": [
        "For the second model, I ran it two times, one with only climate data from previous month and another with climate data from last two month. The accuracy was both about 73%. It is a little bit better than the previous model and it might be an evidence that after one to two month of low precipitation and high temperature, the potential risk of wildfire will increase. But two months of history climate data may already reaches a certain point of overfitting, thus it doesn't make significant different between one month and two months."
      ]
    }
  ],
  "metadata": {
    "colab": {
      "provenance": []
    },
    "kernelspec": {
      "display_name": "Python 3",
      "name": "python3"
    },
    "language_info": {
      "codemirror_mode": {
        "name": "ipython",
        "version": 3
      },
      "file_extension": ".py",
      "mimetype": "text/x-python",
      "name": "python",
      "nbconvert_exporter": "python",
      "pygments_lexer": "ipython3",
      "version": "3.11.3"
    }
  },
  "nbformat": 4,
  "nbformat_minor": 0
}
